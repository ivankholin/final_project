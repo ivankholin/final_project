{
 "cells": [
  {
   "cell_type": "code",
   "execution_count": 3,
   "metadata": {},
   "outputs": [
    {
     "name": "stdout",
     "output_type": "stream",
     "text": [
      "INFO:tensorflow:Restoring parameters from export_dir/1555572340/variables/variables\n"
     ]
    }
   ],
   "source": [
    "import numpy as np\n",
    "from bpemb import BPEmb\n",
    "from tensorflow.contrib import predictor\n",
    "\n",
    "vocab_size = 3000\n",
    "emb_dim = 100\n",
    "bpemb_ru = BPEmb(lang='ru', vs=vocab_size , dim=emb_dim)\n",
    "export_dir = 'export_dir/1555572340'\n",
    "predict_fn = predictor.from_saved_model(export_dir)\n",
    "\n",
    "def parse_fn(line, bpemb = bpemb_ru):\n",
    "    '''\n",
    "        функция кодировки строки:\n",
    "        line- строка\n",
    "    '''\n",
    "    feature = np.array([bpemb.encode_ids(line)]).astype(np.int32)\n",
    "    return feature, np.array([len(feature[0])])\n",
    "\n",
    "def to_capital_latter(sentence):\n",
    "    tmp = ''\n",
    "    flag = True\n",
    "    for c in sentence:\n",
    "        if flag and c != ' ':\n",
    "            tmp += c.upper()\n",
    "            flag = False\n",
    "        else:\n",
    "            tmp += c\n",
    "        if c in '.?!':\n",
    "            flag = True\n",
    "    return tmp\n",
    "\n",
    "def predict(line, predict_fn=predict_fn):\n",
    "    x, x_len = parse_fn(line)\n",
    "    d = {1:2922, 2:2921, 3:2978, 4:2985, 5:2947, 6:2963}\n",
    "    predict = predict_fn({'x':x, 'len':x_len })\n",
    "    a = []\n",
    "    for i in range(predict['lengths'][0]):\n",
    "        a.append(predict['sequences'][0][i])\n",
    "        if predict['prediction'][0][i] != 0:\n",
    "            a.append(d[predict['prediction'][0][i]])\n",
    "    return to_capital_latter(bpemb_ru.decode_ids(np.array(a)))\n"
   ]
  },
  {
   "cell_type": "code",
   "execution_count": 7,
   "metadata": {},
   "outputs": [
    {
     "name": "stdout",
     "output_type": "stream",
     "text": [
      "CPU times: user 455 ms, sys: 550 ms, total: 1 s\n",
      "Wall time: 177 ms\n"
     ]
    },
    {
     "data": {
      "text/plain": [
       "'Быть энтузиасткой сделалось ее общественным положением и иногда, когда ей даже того не хотелось она, чтобы не обмануть ожиданий людей знавших ее делалась энтузиасткой сдержанная улыбка игравшая постоянно на лице анны павловны, хотя и не шла к ее отжившим чертам выражала, как у избалованных детей постоянное со,знание своего милого недостатка, от которого она не хочет не может и не находит нужным исправляться.'"
      ]
     },
     "execution_count": 7,
     "metadata": {},
     "output_type": "execute_result"
    }
   ],
   "source": [
    "%%time\n",
    "predict('Быть энтузиасткой сделалось ее общественным положением и иногда когда ей даже того не хотелось она чтобы не обмануть ожиданий людей знавших ее делалась энтузиасткой сдержанная улыбка игравшая постоянно на лице Анны Павловны хотя и не шла к ее отжившим чертам выражала как у избалованных детей постоянное сознание своего милого недостатка от которого она не хочет не может и не находит нужным исправляться')"
   ]
  },
  {
   "cell_type": "code",
   "execution_count": null,
   "metadata": {},
   "outputs": [],
   "source": []
  }
 ],
 "metadata": {
  "kernelspec": {
   "display_name": "Python 3",
   "language": "python",
   "name": "python3"
  },
  "language_info": {
   "codemirror_mode": {
    "name": "ipython",
    "version": 3
   },
   "file_extension": ".py",
   "mimetype": "text/x-python",
   "name": "python",
   "nbconvert_exporter": "python",
   "pygments_lexer": "ipython3",
   "version": "3.6.7"
  }
 },
 "nbformat": 4,
 "nbformat_minor": 2
}
