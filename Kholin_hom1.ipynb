{
 "cells": [
  {
   "cell_type": "code",
   "execution_count": 1,
   "metadata": {},
   "outputs": [],
   "source": [
    "import pandas as pd\n",
    "import numpy as np\n",
    "import matplotlib.pyplot as plt\n",
    "\n",
    "from sklearn.feature_extraction.text import TfidfVectorizer\n",
    "from sklearn.svm import LinearSVC\n",
    "from sklearn.model_selection import cross_val_score\n",
    "\n",
    "import razdel\n",
    "from pymystem3 import Mystem\n",
    "m = Mystem()"
   ]
  },
  {
   "cell_type": "code",
   "execution_count": 2,
   "metadata": {},
   "outputs": [],
   "source": [
    "data_train = pd.read_csv('train.csv')"
   ]
  },
  {
   "cell_type": "code",
   "execution_count": 3,
   "metadata": {},
   "outputs": [
    {
     "data": {
      "text/plain": [
       "(112467, 3)"
      ]
     },
     "execution_count": 3,
     "metadata": {},
     "output_type": "execute_result"
    }
   ],
   "source": [
    "data_train.shape"
   ]
  },
  {
   "cell_type": "code",
   "execution_count": 4,
   "metadata": {},
   "outputs": [
    {
     "data": {
      "text/html": [
       "<div>\n",
       "<style scoped>\n",
       "    .dataframe tbody tr th:only-of-type {\n",
       "        vertical-align: middle;\n",
       "    }\n",
       "\n",
       "    .dataframe tbody tr th {\n",
       "        vertical-align: top;\n",
       "    }\n",
       "\n",
       "    .dataframe thead th {\n",
       "        text-align: right;\n",
       "    }\n",
       "</style>\n",
       "<table border=\"1\" class=\"dataframe\">\n",
       "  <thead>\n",
       "    <tr style=\"text-align: right;\">\n",
       "      <th></th>\n",
       "      <th>id</th>\n",
       "      <th>text</th>\n",
       "      <th>label</th>\n",
       "    </tr>\n",
       "  </thead>\n",
       "  <tbody>\n",
       "    <tr>\n",
       "      <th>0</th>\n",
       "      <td>0</td>\n",
       "      <td>ж 44 позн с мужч от 40 лет 0678935919</td>\n",
       "      <td>1</td>\n",
       "    </tr>\n",
       "    <tr>\n",
       "      <th>1</th>\n",
       "      <td>1</td>\n",
       "      <td>уже и не вспомню где это увидел</td>\n",
       "      <td>2</td>\n",
       "    </tr>\n",
       "    <tr>\n",
       "      <th>2</th>\n",
       "      <td>2</td>\n",
       "      <td>, sep=';', decimal=',' может изза этого</td>\n",
       "      <td>2</td>\n",
       "    </tr>\n",
       "    <tr>\n",
       "      <th>3</th>\n",
       "      <td>3</td>\n",
       "      <td>НУЖНА ДЕВ ДЛЯ С\\\\О -19л.0637048428смс</td>\n",
       "      <td>1</td>\n",
       "    </tr>\n",
       "    <tr>\n",
       "      <th>4</th>\n",
       "      <td>4</td>\n",
       "      <td>.М54.ИЩУ Д.Ж.  С-П.ДЛЯ ЛАСК...НЕКМ.0508665030....</td>\n",
       "      <td>1</td>\n",
       "    </tr>\n",
       "  </tbody>\n",
       "</table>\n",
       "</div>"
      ],
      "text/plain": [
       "   id                                               text  label\n",
       "0   0              ж 44 позн с мужч от 40 лет 0678935919      1\n",
       "1   1                    уже и не вспомню где это увидел      2\n",
       "2   2            , sep=';', decimal=',' может изза этого      2\n",
       "3   3              НУЖНА ДЕВ ДЛЯ С\\\\О -19л.0637048428смс      1\n",
       "4   4  .М54.ИЩУ Д.Ж.  С-П.ДЛЯ ЛАСК...НЕКМ.0508665030....      1"
      ]
     },
     "execution_count": 4,
     "metadata": {},
     "output_type": "execute_result"
    }
   ],
   "source": [
    "data_train.head(5)"
   ]
  },
  {
   "cell_type": "code",
   "execution_count": 5,
   "metadata": {},
   "outputs": [
    {
     "data": {
      "image/png": "[encoded data removed]",
      "text/plain": [
       "<Figure size 432x288 with 1 Axes>"
      ]
     },
     "metadata": {
      "needs_background": "light"
     },
     "output_type": "display_data"
    }
   ],
   "source": [
    "data_train.label.hist()\n",
    "plt.show()"
   ]
  },
  {
   "cell_type": "code",
   "execution_count": 6,
   "metadata": {},
   "outputs": [],
   "source": [
    "def tokenize_with_razdel(text):\n",
    "    return [token.text for token in razdel.tokenize(''.join(m.lemmatize( text)))]\n",
    "\n",
    "from pymystem3 import Mystem\n",
    "m = Mystem()\n",
    "def lemmatize_with_mystem(tokens):\n",
    "    return tokenize_with_razdel(( ''.join(m.lemmatize( tokens)) ))"
   ]
  },
  {
   "cell_type": "code",
   "execution_count": 7,
   "metadata": {},
   "outputs": [],
   "source": [
    "data_t = np.array([x.lower() for x in data_train.text])\n",
    "ltrain = np.array(data_train.label)"
   ]
  },
  {
   "cell_type": "code",
   "execution_count": 8,
   "metadata": {},
   "outputs": [],
   "source": [
    "def find_best_param(text, label):\n",
    "    '''Function chooses parameters.'''\n",
    "    best_tfidf = None\n",
    "    best_model = None\n",
    "    best_min = None\n",
    "    best_ngram = None\n",
    "    best_C = None\n",
    "    global_best_score = 0\n",
    "    \n",
    "\n",
    "    for min_df in range(1, 4):\n",
    "        for n_gram in range(1,4):\n",
    "            tfidf = TfidfVectorizer(min_df=min_df, ngram_range=(1,n_gram), tokenizer=lemmatize_with_mystem)\n",
    "            data_transform = tfidf.fit_transform(text)\n",
    "            best_score = 0\n",
    "            for c in np.arange(0.1, 2.0, 0.1):\n",
    "                model =  LinearSVC(C=c)\n",
    "                score = cross_val_score(model, data_transform, label, cv=3, scoring='f1_micro').mean()\n",
    "                if(score > best_score):\n",
    "                    best_score = score\n",
    "                if(score > global_best_score):\n",
    "                    global_best_score = score\n",
    "                    best_tfidf = tfidf\n",
    "                    best_model = model\n",
    "                    best_min = min_df\n",
    "                    best_ngram = n_gram\n",
    "                    best_C = c\n",
    "            print(f'min_df = {min_df}, n_gram = {n_gram}, score = {best_score}')  \n",
    "    return [best_min, best_ngram, best_C]"
   ]
  },
  {
   "cell_type": "code",
   "execution_count": 9,
   "metadata": {},
   "outputs": [
    {
     "name": "stdout",
     "output_type": "stream",
     "text": [
      "min_df = 1, n_gram = 1, score = 0.8943690060854607\n",
      "min_df = 1, n_gram = 2, score = 0.8914615038588699\n",
      "min_df = 1, n_gram = 3, score = 0.8898076671422537\n",
      "min_df = 2, n_gram = 1, score = 0.894973631680768\n",
      "min_df = 2, n_gram = 2, score = 0.8924039961442695\n",
      "min_df = 2, n_gram = 3, score = 0.8922528288353678\n",
      "min_df = 3, n_gram = 1, score = 0.8943067746186367\n",
      "min_df = 3, n_gram = 2, score = 0.8914348182206279\n",
      "min_df = 3, n_gram = 3, score = 0.8914259234031888\n"
     ]
    }
   ],
   "source": [
    "best_param = find_best_param(data_t, ltrain)"
   ]
  },
  {
   "cell_type": "code",
   "execution_count": 14,
   "metadata": {
    "scrolled": true
   },
   "outputs": [],
   "source": [
    "#Prediction\n",
    "\n",
    "data_test = pd.read_csv('test.csv')\n",
    "\n",
    "model = LinearSVC(C = best_param[2])\n",
    "tfidf = TfidfVectorizer(min_df=best_param[0], ngram_range=(1,best_param[1]), tokenizer=lemmatize_with_mystem)\n",
    "\n",
    "data_train_transform = tfidf.fit_transform(data_t)\n",
    "model.fit(data_train_transform, ltrain)\n",
    "\n",
    "data_test_transform = tfidf.transform([x.lower() for x in data_test.text])\n",
    "data_test['label'] = model.predict(data_test_transform)\n",
    "\n",
    "\n",
    "data_test[['id', 'label']].to_csv('predict3.csv', index=False)"
   ]
  },
  {
   "cell_type": "code",
   "execution_count": null,
   "metadata": {},
   "outputs": [],
   "source": []
  }
 ],
 "metadata": {
  "kernelspec": {
   "display_name": "Python 3",
   "language": "python",
   "name": "python3"
  },
  "language_info": {
   "codemirror_mode": {
    "name": "ipython",
    "version": 3
   },
   "file_extension": ".py",
   "mimetype": "text/x-python",
   "name": "python",
   "nbconvert_exporter": "python",
   "pygments_lexer": "ipython3",
   "version": "3.6.8"
  }
 },
 "nbformat": 4,
 "nbformat_minor": 2
}
